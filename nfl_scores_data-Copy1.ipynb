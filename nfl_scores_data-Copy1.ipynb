{
 "cells": [
  {
   "cell_type": "code",
   "execution_count": null,
   "metadata": {},
   "outputs": [],
   "source": [
    "# This code is for opening, reading and processing historical nfl scores data\n",
    "\n",
    "import pandas as pd\n",
    "import numpy as np\n",
    "# create the object to load from the file\n",
    "\n",
    "# File to Load (Remember to change these)\n",
    "nfl_data_toload = \"spreadspoke_scores.csv\"\n",
    "\n",
    "# read the data\n",
    "nfl_data = pd.read_csv(nfl_data_toload)\n",
    "nfl_data\n",
    "\n"
   ]
  },
  {
   "cell_type": "code",
   "execution_count": null,
   "metadata": {},
   "outputs": [],
   "source": [
    "# clean up the data\n",
    "# remove dates prior to prior to 2013 but not after 2017\n",
    "# remove playoff games\n",
    "nfl_before_2017 = nfl_data[nfl_data.schedule_season < 2017]\n",
    "nfl_after_2014 = nfl_before_2017[nfl_before_2017.schedule_season > 2014]\n",
    "nfl_no_playoffs = nfl_after_2014[nfl_after_2014.schedule_playoff != True]\n",
    "nfl_no_playoffs"
   ]
  },
  {
   "cell_type": "code",
   "execution_count": null,
   "metadata": {},
   "outputs": [],
   "source": [
    "# drop uneeded columns\n",
    "nfl_data_clean = nfl_no_playoffs.drop(nfl_data.columns[[2, 3, 7, 8, 9, 10, 12, 13, 14, 15, 16]], axis=1)\n",
    "nfl_data_clean.head()"
   ]
  },
  {
   "cell_type": "code",
   "execution_count": null,
   "metadata": {},
   "outputs": [],
   "source": [
    "# determine if home team won\n",
    "# define a function to calculate if the home team wom or loss\n",
    "def winLoss (row):\n",
    "    num1 = row['score_home']\n",
    "    num2 = row['score_away']\n",
    "    if num1 - num2 > 0:\n",
    "        return 'W'\n",
    "    return 'L'"
   ]
  },
  {
   "cell_type": "code",
   "execution_count": null,
   "metadata": {},
   "outputs": [],
   "source": [
    "# use winLoss() function to create new win/loss column showing result of game and write to csv\n",
    "\n",
    "nfl_data_clean['win/loss'] = nfl_data_clean.apply (lambda row: winLoss (row),axis=1)\n",
    "\n",
    "nfl_data_clean.head(17)"
   ]
  },
  {
   "cell_type": "code",
   "execution_count": null,
   "metadata": {},
   "outputs": [],
   "source": [
    "nfl_data_clean['schedule_season'].unique()"
   ]
  },
  {
   "cell_type": "code",
   "execution_count": null,
   "metadata": {},
   "outputs": [],
   "source": [
    "# create arraw of cities to drop\n",
    "dropped_cities = ['Baltimore Ravens','Buffalo Bills','Cinncinati Bengals','Cleveland Browns','San Diego Chargers','New England Patriots','New York Giants','New York Jets','Oakland Raiders','Philadelphia Eagles','Pittsburg Steelers','San Francisco 49ers','Seattle Seahawks','Washington Redskins']\n",
    "# delete rows that have teams we don't want\n",
    "selected_cities_df = nfl_data_clean[~nfl_data_clean['team_home'].isin(dropped_cities)]\n",
    "\n",
    "#selected_cities_df = nfl[nfl.team_home != 'Baltimore Ravens' | nfl.team_home != 'Buffalo Bills' | nfl.team_home != 'Cinncinati Bengals']\n",
    "                        #| nfl.team_home != 'Cleveland Browns' | nfl.team_home != 'Denver Broncos' | nfl.team_home != 'San Diego Chargers'\n",
    "                        #| nfl.team_home != 'New England Patriots' | nfl.team_home != 'New York Giants' | nfl.team_home != 'New York Jets'\n",
    "                        #| nfl.team_home != 'Oakland Raiders' | nfl.team_home != 'Philadelphia Eagles' \n",
    "                        #| nfl.team_home != 'Pittsburg Steelers' | nfl.team_home != 'San Francisco 49ers'\n",
    "                        #| nfl.team_home != 'Seattle Seahawks' | nfl.team_home != 'Washington Redskins']\n",
    "selected_cities_df.to_csv('nfl_data.csv')\n",
    "    "
   ]
  },
  {
   "cell_type": "code",
   "execution_count": null,
   "metadata": {},
   "outputs": [],
   "source": []
  },
  {
   "cell_type": "code",
   "execution_count": null,
   "metadata": {},
   "outputs": [],
   "source": []
  }
 ],
 "metadata": {
  "kernelspec": {
   "display_name": "Python 3",
   "language": "python",
   "name": "python3"
  },
  "language_info": {
   "codemirror_mode": {
    "name": "ipython",
    "version": 3
   },
   "file_extension": ".py",
   "mimetype": "text/x-python",
   "name": "python",
   "nbconvert_exporter": "python",
   "pygments_lexer": "ipython3",
   "version": "3.6.8"
  }
 },
 "nbformat": 4,
 "nbformat_minor": 2
}
