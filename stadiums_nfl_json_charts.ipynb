{
 "cells": [
  {
   "cell_type": "code",
   "execution_count": 1,
   "metadata": {},
   "outputs": [],
   "source": [
    "# Dependencies\n",
    "import pandas as pd\n",
    "import numpy as np\n",
    "import csv\n",
    "import requests\n",
    "import json\n",
    "import matplotlib.pyplot as plt"
   ]
  },
  {
   "cell_type": "code",
   "execution_count": 2,
   "metadata": {},
   "outputs": [],
   "source": [
    "with open(\"stadiums_nfl.json\") as datafile:\n",
    "  data = json.load(datafile)\n",
    "dataframe = pd.DataFrame(data)"
   ]
  },
  {
   "cell_type": "code",
   "execution_count": 3,
   "metadata": {
    "scrolled": false
   },
   "outputs": [
    {
     "data": {
      "text/html": [
       "<div>\n",
       "<style scoped>\n",
       "    .dataframe tbody tr th:only-of-type {\n",
       "        vertical-align: middle;\n",
       "    }\n",
       "\n",
       "    .dataframe tbody tr th {\n",
       "        vertical-align: top;\n",
       "    }\n",
       "\n",
       "    .dataframe thead th {\n",
       "        text-align: right;\n",
       "    }\n",
       "</style>\n",
       "<table border=\"1\" class=\"dataframe\">\n",
       "  <thead>\n",
       "    <tr style=\"text-align: right;\">\n",
       "      <th></th>\n",
       "      <th>datasetid</th>\n",
       "      <th>fields</th>\n",
       "      <th>geometry</th>\n",
       "      <th>record_timestamp</th>\n",
       "      <th>recordid</th>\n",
       "    </tr>\n",
       "  </thead>\n",
       "  <tbody>\n",
       "    <tr>\n",
       "      <th>0</th>\n",
       "      <td>stadiums_nfl</td>\n",
       "      <td>{'sector': 'High Value/Symboli', 'reliabilit':...</td>\n",
       "      <td>{'type': 'Point', 'coordinates': [-87.61676997...</td>\n",
       "      <td>2017-04-13T04:48:16-04:00</td>\n",
       "      <td>acaab7736b25dbc81055f02ceb96041ea791aab6</td>\n",
       "    </tr>\n",
       "    <tr>\n",
       "      <th>1</th>\n",
       "      <td>stadiums_nfl</td>\n",
       "      <td>{'sector': 'High Value/Symboli', 'reliabilit':...</td>\n",
       "      <td>{'type': 'Point', 'coordinates': [-95.41091997...</td>\n",
       "      <td>2017-04-13T04:48:16-04:00</td>\n",
       "      <td>b6b73850e7110b440b11ba18a3d5d18c4a4df399</td>\n",
       "    </tr>\n",
       "    <tr>\n",
       "      <th>2</th>\n",
       "      <td>stadiums_nfl</td>\n",
       "      <td>{'sector': 'High Value/Symboli', 'reliabilit':...</td>\n",
       "      <td>{'type': 'Point', 'coordinates': [-94.48388009...</td>\n",
       "      <td>2017-04-13T04:48:16-04:00</td>\n",
       "      <td>dae0180f6c4107dbc52ea4174d0e331e135d8e74</td>\n",
       "    </tr>\n",
       "    <tr>\n",
       "      <th>3</th>\n",
       "      <td>stadiums_nfl</td>\n",
       "      <td>{'sector': 'High Value/Symboli', 'reliabilit':...</td>\n",
       "      <td>{'type': 'Point', 'coordinates': [-90.08127999...</td>\n",
       "      <td>2017-04-13T04:48:16-04:00</td>\n",
       "      <td>bb9e7a8c6e5b57f863029203999e7fe3877b50ed</td>\n",
       "    </tr>\n",
       "    <tr>\n",
       "      <th>4</th>\n",
       "      <td>stadiums_nfl</td>\n",
       "      <td>{'sector': 'High Value/Symboli', 'reliabilit':...</td>\n",
       "      <td>{'type': 'Point', 'coordinates': [-80.23888995...</td>\n",
       "      <td>2017-04-13T04:48:16-04:00</td>\n",
       "      <td>2c453332d4240ec71639594550cd223109270786</td>\n",
       "    </tr>\n",
       "  </tbody>\n",
       "</table>\n",
       "</div>"
      ],
      "text/plain": [
       "      datasetid                                             fields  \\\n",
       "0  stadiums_nfl  {'sector': 'High Value/Symboli', 'reliabilit':...   \n",
       "1  stadiums_nfl  {'sector': 'High Value/Symboli', 'reliabilit':...   \n",
       "2  stadiums_nfl  {'sector': 'High Value/Symboli', 'reliabilit':...   \n",
       "3  stadiums_nfl  {'sector': 'High Value/Symboli', 'reliabilit':...   \n",
       "4  stadiums_nfl  {'sector': 'High Value/Symboli', 'reliabilit':...   \n",
       "\n",
       "                                            geometry  \\\n",
       "0  {'type': 'Point', 'coordinates': [-87.61676997...   \n",
       "1  {'type': 'Point', 'coordinates': [-95.41091997...   \n",
       "2  {'type': 'Point', 'coordinates': [-94.48388009...   \n",
       "3  {'type': 'Point', 'coordinates': [-90.08127999...   \n",
       "4  {'type': 'Point', 'coordinates': [-80.23888995...   \n",
       "\n",
       "            record_timestamp                                  recordid  \n",
       "0  2017-04-13T04:48:16-04:00  acaab7736b25dbc81055f02ceb96041ea791aab6  \n",
       "1  2017-04-13T04:48:16-04:00  b6b73850e7110b440b11ba18a3d5d18c4a4df399  \n",
       "2  2017-04-13T04:48:16-04:00  dae0180f6c4107dbc52ea4174d0e331e135d8e74  \n",
       "3  2017-04-13T04:48:16-04:00  bb9e7a8c6e5b57f863029203999e7fe3877b50ed  \n",
       "4  2017-04-13T04:48:16-04:00  2c453332d4240ec71639594550cd223109270786  "
      ]
     },
     "execution_count": 3,
     "metadata": {},
     "output_type": "execute_result"
    }
   ],
   "source": [
    "dataframe.head()"
   ]
  },
  {
   "cell_type": "code",
   "execution_count": 4,
   "metadata": {},
   "outputs": [],
   "source": [
    "# Store filepath in a variable\n",
    "file_one = \"stadiums_nfl.csv\"\n",
    "file_two = \"nfl_data.csv\""
   ]
  },
  {
   "cell_type": "code",
   "execution_count": 5,
   "metadata": {},
   "outputs": [
    {
     "ename": "ParserError",
     "evalue": "Error tokenizing data. C error: Expected 12 fields in line 35, saw 13\n",
     "output_type": "error",
     "traceback": [
      "\u001b[1;31m---------------------------------------------------------------------------\u001b[0m",
      "\u001b[1;31mParserError\u001b[0m                               Traceback (most recent call last)",
      "\u001b[1;32m<ipython-input-5-261915851b39>\u001b[0m in \u001b[0;36m<module>\u001b[1;34m()\u001b[0m\n\u001b[0;32m      1\u001b[0m \u001b[1;31m# Read our Data file with the pandas library\u001b[0m\u001b[1;33m\u001b[0m\u001b[1;33m\u001b[0m\u001b[0m\n\u001b[0;32m      2\u001b[0m \u001b[1;31m# Not every CSV requires an encoding, but be aware this can come up\u001b[0m\u001b[1;33m\u001b[0m\u001b[1;33m\u001b[0m\u001b[0m\n\u001b[1;32m----> 3\u001b[1;33m \u001b[0mstadiums_nfl_df\u001b[0m \u001b[1;33m=\u001b[0m \u001b[0mpd\u001b[0m\u001b[1;33m.\u001b[0m\u001b[0mread_csv\u001b[0m\u001b[1;33m(\u001b[0m\u001b[0mfile_one\u001b[0m\u001b[1;33m,\u001b[0m \u001b[0mencoding\u001b[0m\u001b[1;33m=\u001b[0m\u001b[1;34m\"ISO-8859-1\"\u001b[0m\u001b[1;33m)\u001b[0m\u001b[1;33m\u001b[0m\u001b[0m\n\u001b[0m\u001b[0;32m      4\u001b[0m \u001b[0mstadiums_score_df\u001b[0m \u001b[1;33m=\u001b[0m \u001b[0mpd\u001b[0m\u001b[1;33m.\u001b[0m\u001b[0mread_csv\u001b[0m\u001b[1;33m(\u001b[0m\u001b[0mfile_two\u001b[0m\u001b[1;33m)\u001b[0m\u001b[1;33m\u001b[0m\u001b[0m\n",
      "\u001b[1;32m~\\AppData\\Local\\conda\\conda\\envs\\PythonData\\lib\\site-packages\\pandas\\io\\parsers.py\u001b[0m in \u001b[0;36mparser_f\u001b[1;34m(filepath_or_buffer, sep, delimiter, header, names, index_col, usecols, squeeze, prefix, mangle_dupe_cols, dtype, engine, converters, true_values, false_values, skipinitialspace, skiprows, nrows, na_values, keep_default_na, na_filter, verbose, skip_blank_lines, parse_dates, infer_datetime_format, keep_date_col, date_parser, dayfirst, iterator, chunksize, compression, thousands, decimal, lineterminator, quotechar, quoting, escapechar, comment, encoding, dialect, tupleize_cols, error_bad_lines, warn_bad_lines, skipfooter, doublequote, delim_whitespace, low_memory, memory_map, float_precision)\u001b[0m\n\u001b[0;32m    676\u001b[0m                     skip_blank_lines=skip_blank_lines)\n\u001b[0;32m    677\u001b[0m \u001b[1;33m\u001b[0m\u001b[0m\n\u001b[1;32m--> 678\u001b[1;33m         \u001b[1;32mreturn\u001b[0m \u001b[0m_read\u001b[0m\u001b[1;33m(\u001b[0m\u001b[0mfilepath_or_buffer\u001b[0m\u001b[1;33m,\u001b[0m \u001b[0mkwds\u001b[0m\u001b[1;33m)\u001b[0m\u001b[1;33m\u001b[0m\u001b[0m\n\u001b[0m\u001b[0;32m    679\u001b[0m \u001b[1;33m\u001b[0m\u001b[0m\n\u001b[0;32m    680\u001b[0m     \u001b[0mparser_f\u001b[0m\u001b[1;33m.\u001b[0m\u001b[0m__name__\u001b[0m \u001b[1;33m=\u001b[0m \u001b[0mname\u001b[0m\u001b[1;33m\u001b[0m\u001b[0m\n",
      "\u001b[1;32m~\\AppData\\Local\\conda\\conda\\envs\\PythonData\\lib\\site-packages\\pandas\\io\\parsers.py\u001b[0m in \u001b[0;36m_read\u001b[1;34m(filepath_or_buffer, kwds)\u001b[0m\n\u001b[0;32m    444\u001b[0m \u001b[1;33m\u001b[0m\u001b[0m\n\u001b[0;32m    445\u001b[0m     \u001b[1;32mtry\u001b[0m\u001b[1;33m:\u001b[0m\u001b[1;33m\u001b[0m\u001b[0m\n\u001b[1;32m--> 446\u001b[1;33m         \u001b[0mdata\u001b[0m \u001b[1;33m=\u001b[0m \u001b[0mparser\u001b[0m\u001b[1;33m.\u001b[0m\u001b[0mread\u001b[0m\u001b[1;33m(\u001b[0m\u001b[0mnrows\u001b[0m\u001b[1;33m)\u001b[0m\u001b[1;33m\u001b[0m\u001b[0m\n\u001b[0m\u001b[0;32m    447\u001b[0m     \u001b[1;32mfinally\u001b[0m\u001b[1;33m:\u001b[0m\u001b[1;33m\u001b[0m\u001b[0m\n\u001b[0;32m    448\u001b[0m         \u001b[0mparser\u001b[0m\u001b[1;33m.\u001b[0m\u001b[0mclose\u001b[0m\u001b[1;33m(\u001b[0m\u001b[1;33m)\u001b[0m\u001b[1;33m\u001b[0m\u001b[0m\n",
      "\u001b[1;32m~\\AppData\\Local\\conda\\conda\\envs\\PythonData\\lib\\site-packages\\pandas\\io\\parsers.py\u001b[0m in \u001b[0;36mread\u001b[1;34m(self, nrows)\u001b[0m\n\u001b[0;32m   1034\u001b[0m                 \u001b[1;32mraise\u001b[0m \u001b[0mValueError\u001b[0m\u001b[1;33m(\u001b[0m\u001b[1;34m'skipfooter not supported for iteration'\u001b[0m\u001b[1;33m)\u001b[0m\u001b[1;33m\u001b[0m\u001b[0m\n\u001b[0;32m   1035\u001b[0m \u001b[1;33m\u001b[0m\u001b[0m\n\u001b[1;32m-> 1036\u001b[1;33m         \u001b[0mret\u001b[0m \u001b[1;33m=\u001b[0m \u001b[0mself\u001b[0m\u001b[1;33m.\u001b[0m\u001b[0m_engine\u001b[0m\u001b[1;33m.\u001b[0m\u001b[0mread\u001b[0m\u001b[1;33m(\u001b[0m\u001b[0mnrows\u001b[0m\u001b[1;33m)\u001b[0m\u001b[1;33m\u001b[0m\u001b[0m\n\u001b[0m\u001b[0;32m   1037\u001b[0m \u001b[1;33m\u001b[0m\u001b[0m\n\u001b[0;32m   1038\u001b[0m         \u001b[1;31m# May alter columns / col_dict\u001b[0m\u001b[1;33m\u001b[0m\u001b[1;33m\u001b[0m\u001b[0m\n",
      "\u001b[1;32m~\\AppData\\Local\\conda\\conda\\envs\\PythonData\\lib\\site-packages\\pandas\\io\\parsers.py\u001b[0m in \u001b[0;36mread\u001b[1;34m(self, nrows)\u001b[0m\n\u001b[0;32m   1846\u001b[0m     \u001b[1;32mdef\u001b[0m \u001b[0mread\u001b[0m\u001b[1;33m(\u001b[0m\u001b[0mself\u001b[0m\u001b[1;33m,\u001b[0m \u001b[0mnrows\u001b[0m\u001b[1;33m=\u001b[0m\u001b[1;32mNone\u001b[0m\u001b[1;33m)\u001b[0m\u001b[1;33m:\u001b[0m\u001b[1;33m\u001b[0m\u001b[0m\n\u001b[0;32m   1847\u001b[0m         \u001b[1;32mtry\u001b[0m\u001b[1;33m:\u001b[0m\u001b[1;33m\u001b[0m\u001b[0m\n\u001b[1;32m-> 1848\u001b[1;33m             \u001b[0mdata\u001b[0m \u001b[1;33m=\u001b[0m \u001b[0mself\u001b[0m\u001b[1;33m.\u001b[0m\u001b[0m_reader\u001b[0m\u001b[1;33m.\u001b[0m\u001b[0mread\u001b[0m\u001b[1;33m(\u001b[0m\u001b[0mnrows\u001b[0m\u001b[1;33m)\u001b[0m\u001b[1;33m\u001b[0m\u001b[0m\n\u001b[0m\u001b[0;32m   1849\u001b[0m         \u001b[1;32mexcept\u001b[0m \u001b[0mStopIteration\u001b[0m\u001b[1;33m:\u001b[0m\u001b[1;33m\u001b[0m\u001b[0m\n\u001b[0;32m   1850\u001b[0m             \u001b[1;32mif\u001b[0m \u001b[0mself\u001b[0m\u001b[1;33m.\u001b[0m\u001b[0m_first_chunk\u001b[0m\u001b[1;33m:\u001b[0m\u001b[1;33m\u001b[0m\u001b[0m\n",
      "\u001b[1;32mpandas\\_libs\\parsers.pyx\u001b[0m in \u001b[0;36mpandas._libs.parsers.TextReader.read\u001b[1;34m()\u001b[0m\n",
      "\u001b[1;32mpandas\\_libs\\parsers.pyx\u001b[0m in \u001b[0;36mpandas._libs.parsers.TextReader._read_low_memory\u001b[1;34m()\u001b[0m\n",
      "\u001b[1;32mpandas\\_libs\\parsers.pyx\u001b[0m in \u001b[0;36mpandas._libs.parsers.TextReader._read_rows\u001b[1;34m()\u001b[0m\n",
      "\u001b[1;32mpandas\\_libs\\parsers.pyx\u001b[0m in \u001b[0;36mpandas._libs.parsers.TextReader._tokenize_rows\u001b[1;34m()\u001b[0m\n",
      "\u001b[1;32mpandas\\_libs\\parsers.pyx\u001b[0m in \u001b[0;36mpandas._libs.parsers.raise_parser_error\u001b[1;34m()\u001b[0m\n",
      "\u001b[1;31mParserError\u001b[0m: Error tokenizing data. C error: Expected 12 fields in line 35, saw 13\n"
     ]
    }
   ],
   "source": [
    "# Read our Data file with the pandas library\n",
    "# Not every CSV requires an encoding, but be aware this can come up\n",
    "stadiums_nfl_df = pd.read_csv(file_one, encoding=\"ISO-8859-1\")\n",
    "stadiums_score_df = pd.read_csv(file_two)"
   ]
  },
  {
   "cell_type": "code",
   "execution_count": null,
   "metadata": {},
   "outputs": [],
   "source": [
    "# Show just the header\n",
    "stadiums_nfl_df.head()"
   ]
  },
  {
   "cell_type": "code",
   "execution_count": null,
   "metadata": {
    "scrolled": true
   },
   "outputs": [],
   "source": [
    "stadiums_score_df.head()"
   ]
  },
  {
   "cell_type": "code",
   "execution_count": null,
   "metadata": {
    "scrolled": false
   },
   "outputs": [],
   "source": [
    "# Export file as a CSV, without the Pandas index, but with the header\n",
    "#stadiums_nfl_df_type.to_csv(\"stadiums_nfl_type.csv\", index=False, header=True)"
   ]
  },
  {
   "cell_type": "code",
   "execution_count": null,
   "metadata": {},
   "outputs": [],
   "source": [
    "# Export file as a CSV, without the Pandas index, but with the header\n",
    "#merge_stadiums_df.to_csv(\"stadiums_nfl_merge.csv\", index=False, header=True)"
   ]
  },
  {
   "cell_type": "code",
   "execution_count": null,
   "metadata": {},
   "outputs": [],
   "source": [
    "stadiums_nfl_df.ROOF_TYPE.groupby(stadiums_nfl_df.ROOF_TYPE).size().plot(kind='pie',explode = [0, 0.1, 0],\n",
    "                                                                         autopct='%1.1f%%',\n",
    "                                                                         radius=1.2, \n",
    "                                                                         startangle=45,\n",
    "                                                                         colors=['LightBlue','R','Y'],\n",
    "                                                                         shadow=True, fontsize=14)\n",
    "\n",
    "\n",
    "#plt.title('ROOF_TYPE')\n",
    "plt.savefig(\"ROOF_TYPEpie.png\",bbox_inches='tight')\n",
    "plt.show()\n",
    "\n"
   ]
  },
  {
   "cell_type": "code",
   "execution_count": null,
   "metadata": {},
   "outputs": [],
   "source": []
  },
  {
   "cell_type": "code",
   "execution_count": null,
   "metadata": {},
   "outputs": [],
   "source": [
    "#stadiums_merge_df = pd.concat([stadiums_nfl_df, stadiums_score_df], axis=1)\n",
    "\n",
    "stadiums_score_df['schedule_season'] = stadiums_score_df['schedule_season'].astype(object)\n",
    "stadiums_merge_df= pd.merge(stadiums_nfl_df, stadiums_score_df, how='left', left_on=['NAME'], right_on=['stadium'])\n",
    "stadiums_merge_df.drop(['Unnamed: 0', 'stadium'], axis=1, inplace=True)\n",
    "stadiums_merge_df.head()\n"
   ]
  },
  {
   "cell_type": "code",
   "execution_count": null,
   "metadata": {
    "scrolled": true
   },
   "outputs": [],
   "source": [
    "stadiums_merge_df.rename(columns={'COLOR 1':'COLOR1', 'COLOR 2':'COLOR2','win/loss': 'WIN_LOSS','schedule_date':'SCHEDULE DATE',\n",
    "                                 'schedule_season':'SCHEDULE SEASON','team_home':'TEAM HOME','score_home':'HOME SCORE',\n",
    "                                 'score_away':'AWAY SCORE'}, inplace=True)\n",
    "\n",
    "\n",
    "stadiums_merge_df\n",
    "\n"
   ]
  },
  {
   "cell_type": "code",
   "execution_count": null,
   "metadata": {},
   "outputs": [],
   "source": [
    "#stadiums_merge_df.dtypes\n"
   ]
  },
  {
   "cell_type": "code",
   "execution_count": null,
   "metadata": {},
   "outputs": [],
   "source": [
    "#R= {'schedule_season':'Schedule_Season','win/loss':'Win/Loss'}\n",
    "#Total_Win_Loss= stadiums_merge_df.groupby(['schedule_season','win/loss',]).size().reset_index()#.rename(columns=R)\n",
    "#Total_Win_Loss"
   ]
  },
  {
   "cell_type": "code",
   "execution_count": null,
   "metadata": {},
   "outputs": [],
   "source": [
    "#Total_Stadium_Type= stadiums_nfl_df.groupby(['CITY','ROOF_TYPE','NAME',]).size().reset_index()\n",
    "#Total_Stadium_Type"
   ]
  },
  {
   "cell_type": "code",
   "execution_count": null,
   "metadata": {},
   "outputs": [],
   "source": [
    "#bar graph 1 of 'WIN_LOSS','REGION','ROOF_TYPE' ---\n",
    "\n",
    "Bar_graph1_df=stadiums_merge_df.groupby(['WIN_LOSS','REGION','ROOF_TYPE']).size().unstack()\n",
    "\n",
    "Bar_graph1_df.plot.bar(color=['LightBlue','R','Y'],subplots = 'true',figsize=(12,10),legend=True, fontsize=12,title='Win/loss by region and rooftype')\n",
    "plt.savefig(\"Bargraph1.png\",bbox_inches='tight')\n",
    "Bar_graph1_df.plot.bar(color=['LightBlue','R','Y'],figsize=(12,10),legend=True, fontsize=12,title='Win/loss by region and rooftype')\n",
    "plt.savefig(\"Bargraph1.png\",bbox_inches='tight')\n",
    "\n",
    "\n",
    "\n"
   ]
  },
  {
   "cell_type": "code",
   "execution_count": null,
   "metadata": {},
   "outputs": [],
   "source": [
    "# Horizontal bar graph 1 of 'WIN_LOSS','REGION','ROOF_TYPE' ---\n",
    "\n",
    "\n",
    "Bar_graph1_df=stadiums_merge_df.groupby(['WIN_LOSS','REGION','ROOF_TYPE']).size().unstack()\n",
    "\n",
    "Bar_graph1_df.plot.barh(color=['LightBlue','R','Y'],subplots = 'true',figsize=(12,10),legend=True, \n",
    "                        fontsize=12,title='Win/loss by region and rooftype')\n",
    "\n",
    "plt.savefig(\"HBargraph1.png\",bbox_inches='tight')\n",
    "\n",
    "\n",
    "\n",
    "\n",
    "Bar_graph1_df.plot.barh(color=['LightBlue','R','Y'],figsize=(12,10),legend=True, fontsize=12,\n",
    "                        title='Win/loss by region and rooftype')\n",
    "\n",
    "plt.savefig(\"HBargraph1.png\",bbox_inches='tight')\n",
    "\n",
    "\n",
    "\n",
    "\n"
   ]
  },
  {
   "cell_type": "code",
   "execution_count": null,
   "metadata": {},
   "outputs": [],
   "source": [
    "# bar graph 2 with --SCHEDULE SEASON, rooftype,win/loss,season ---\n",
    "\n",
    "Bar_graph2_df=stadiums_merge_df.groupby(['WIN_LOSS','ROOF_TYPE','SCHEDULE SEASON']).size().unstack()\n",
    "\n",
    "\n",
    "Bar_graph2_df.plot.bar(color=['LightBlue','R','Y','g'],subplots = 'true',figsize=(12,10),legend=True, \n",
    "                        fontsize=12,title='Win/loss by rooftype and schedule season',align=\"center\")\n",
    " \n",
    "plt.savefig(\"Bargraph2.png\",bbox_inches='tight')\n",
    "\n",
    "Bar_graph2_df.plot.bar(color=['LightBlue','R','Y','g'],figsize=(12,10),legend=True, \n",
    "                        fontsize=12,title='Win/loss by region and rooftype')\n",
    "\n",
    "plt.savefig(\"Bargraph2.png\",bbox_inches='tight')\n",
    "\n"
   ]
  },
  {
   "cell_type": "code",
   "execution_count": null,
   "metadata": {},
   "outputs": [],
   "source": [
    "# Horizontal bar graph 2 with --SCHEDULE SEASON, rooftype,win/loss,season ---\n",
    "\n",
    "Bar_graph2_df=stadiums_merge_df.groupby(['WIN_LOSS','ROOF_TYPE','SCHEDULE SEASON']).size().unstack()\n",
    "\n",
    "\n",
    "Bar_graph2_df.plot.barh(color=['LightBlue','R','Y','g'],subplots = 'true',figsize=(12,10),legend=True, \n",
    "                        fontsize=12,title='Win/loss by rooftype and schedule season',align=\"center\")\n",
    " \n",
    "plt.savefig(\"HBargraph2.png\",bbox_inches='tight')\n",
    "\n",
    "Bar_graph2_df.plot.barh(color=['LightBlue','R','Y','g'],figsize=(12,10),legend=True, \n",
    "                        fontsize=12,title='Win/loss by region and rooftype')\n",
    "\n",
    "                        \n",
    "\n",
    "plt.savefig(\"HBargraph2.png\",bbox_inches='tight')\n",
    "\n",
    "\n",
    "\n"
   ]
  },
  {
   "cell_type": "code",
   "execution_count": null,
   "metadata": {},
   "outputs": [],
   "source": []
  },
  {
   "cell_type": "code",
   "execution_count": null,
   "metadata": {},
   "outputs": [],
   "source": []
  },
  {
   "cell_type": "code",
   "execution_count": null,
   "metadata": {},
   "outputs": [],
   "source": []
  }
 ],
 "metadata": {
  "kernelspec": {
   "display_name": "Python 3",
   "language": "python",
   "name": "python3"
  },
  "language_info": {
   "codemirror_mode": {
    "name": "ipython",
    "version": 3
   },
   "file_extension": ".py",
   "mimetype": "text/x-python",
   "name": "python",
   "nbconvert_exporter": "python",
   "pygments_lexer": "ipython3",
   "version": "3.6.6"
  },
  "varInspector": {
   "cols": {
    "lenName": 16,
    "lenType": 16,
    "lenVar": 40
   },
   "kernels_config": {
    "python": {
     "delete_cmd_postfix": "",
     "delete_cmd_prefix": "del ",
     "library": "var_list.py",
     "varRefreshCmd": "print(var_dic_list())"
    },
    "r": {
     "delete_cmd_postfix": ") ",
     "delete_cmd_prefix": "rm(",
     "library": "var_list.r",
     "varRefreshCmd": "cat(var_dic_list()) "
    }
   },
   "types_to_exclude": [
    "module",
    "function",
    "builtin_function_or_method",
    "instance",
    "_Feature"
   ],
   "window_display": false
  }
 },
 "nbformat": 4,
 "nbformat_minor": 2
}
